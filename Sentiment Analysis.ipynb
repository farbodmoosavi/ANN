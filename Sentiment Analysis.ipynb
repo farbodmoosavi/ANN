{
  "nbformat": 4,
  "nbformat_minor": 0,
  "metadata": {
    "colab": {
      "name": "Q3.ipynb",
      "provenance": [],
      "collapsed_sections": []
    },
    "kernelspec": {
      "name": "python3",
      "display_name": "Python 3"
    },
    "language_info": {
      "name": "python"
    },
    "accelerator": "GPU"
  },
  "cells": [
    {
      "cell_type": "markdown",
      "metadata": {
        "id": "fF3sVzzb3Hmx"
      },
      "source": [
        "# Importing Libararies and Reading CSV File"
      ]
    },
    {
      "cell_type": "code",
      "metadata": {
        "id": "6sGiJs7CT-Tr"
      },
      "source": [
        "import numpy as np\n",
        "import pandas as pd\n",
        "import matplotlib as mpl\n",
        "import matplotlib.pyplot as plt\n",
        "import sklearn\n",
        "from sklearn import preprocessing\n",
        "from sklearn.model_selection import train_test_split\n",
        "import tensorflow as tf\n",
        "import os\n",
        "# plotting\n",
        "import seaborn as sn\n",
        "from wordcloud import WordCloud\n",
        "\n",
        "import warnings\n",
        "warnings.filterwarnings('ignore')\n",
        "import re\n",
        "import spacy\n",
        "import string\n",
        "import pickle\n",
        "\n",
        "\n",
        "import keras\n",
        "from keras.models import Sequential\n",
        "from keras.layers import Dense, Embedding, LSTM, Dropout, Bidirectional, GlobalMaxPool1D, BatchNormalization\n",
        "from sklearn.feature_extraction.text import CountVectorizer\n",
        "from keras.preprocessing.text import Tokenizer\n",
        "from keras.preprocessing.sequence import pad_sequences\n",
        "from keras.utils.np_utils import to_categorical"
      ],
      "execution_count": 176,
      "outputs": []
    },
    {
      "cell_type": "code",
      "metadata": {
        "colab": {
          "base_uri": "https://localhost:8080/"
        },
        "id": "-NwFrx1U1FNj",
        "outputId": "cbeaa1c3-b635-4929-8f0e-8deb9ee860ae"
      },
      "source": [
        "!gdown --id 1tsPhOCVcDtsR4pSHB-pI-wRze9oEBmXR"
      ],
      "execution_count": 177,
      "outputs": [
        {
          "output_type": "stream",
          "text": [
            "Downloading...\n",
            "From: https://drive.google.com/uc?id=1tsPhOCVcDtsR4pSHB-pI-wRze9oEBmXR\n",
            "To: /content/sentiment_final.csv\n",
            "100% 1.40M/1.40M [00:00<00:00, 6.54MB/s]\n"
          ],
          "name": "stdout"
        }
      ]
    },
    {
      "cell_type": "code",
      "metadata": {
        "id": "5MmweAwxUuhm"
      },
      "source": [
        "import io\n",
        "dataset = pd.read_csv('sentiment_final.csv')"
      ],
      "execution_count": 178,
      "outputs": []
    },
    {
      "cell_type": "markdown",
      "metadata": {
        "id": "6_ksKlnF3Wik"
      },
      "source": [
        "# Data Exploratory"
      ]
    },
    {
      "cell_type": "code",
      "metadata": {
        "colab": {
          "base_uri": "https://localhost:8080/",
          "height": 204
        },
        "id": "fKScp2QDcn5K",
        "outputId": "21946cf9-eba1-4d91-8343-c2f793e0ccc1"
      },
      "source": [
        "dataset.head()"
      ],
      "execution_count": 179,
      "outputs": [
        {
          "output_type": "execute_result",
          "data": {
            "text/html": [
              "<div>\n",
              "<style scoped>\n",
              "    .dataframe tbody tr th:only-of-type {\n",
              "        vertical-align: middle;\n",
              "    }\n",
              "\n",
              "    .dataframe tbody tr th {\n",
              "        vertical-align: top;\n",
              "    }\n",
              "\n",
              "    .dataframe thead th {\n",
              "        text-align: right;\n",
              "    }\n",
              "</style>\n",
              "<table border=\"1\" class=\"dataframe\">\n",
              "  <thead>\n",
              "    <tr style=\"text-align: right;\">\n",
              "      <th></th>\n",
              "      <th>text</th>\n",
              "      <th>sentiment</th>\n",
              "    </tr>\n",
              "  </thead>\n",
              "  <tbody>\n",
              "    <tr>\n",
              "      <th>0</th>\n",
              "      <td>RT @ScottWalker: Didn't catch the full #GOPdeb...</td>\n",
              "      <td>Positive</td>\n",
              "    </tr>\n",
              "    <tr>\n",
              "      <th>1</th>\n",
              "      <td>RT @RobGeorge: That Carly Fiorina is trending ...</td>\n",
              "      <td>Positive</td>\n",
              "    </tr>\n",
              "    <tr>\n",
              "      <th>2</th>\n",
              "      <td>RT @DanScavino: #GOPDebate w/ @realDonaldTrump...</td>\n",
              "      <td>Positive</td>\n",
              "    </tr>\n",
              "    <tr>\n",
              "      <th>3</th>\n",
              "      <td>RT @GregAbbott_TX: @TedCruz: \"On my first day ...</td>\n",
              "      <td>Positive</td>\n",
              "    </tr>\n",
              "    <tr>\n",
              "      <th>4</th>\n",
              "      <td>RT @warriorwoman91: I liked her and was happy ...</td>\n",
              "      <td>Negative</td>\n",
              "    </tr>\n",
              "  </tbody>\n",
              "</table>\n",
              "</div>"
            ],
            "text/plain": [
              "                                                text sentiment\n",
              "0  RT @ScottWalker: Didn't catch the full #GOPdeb...  Positive\n",
              "1  RT @RobGeorge: That Carly Fiorina is trending ...  Positive\n",
              "2  RT @DanScavino: #GOPDebate w/ @realDonaldTrump...  Positive\n",
              "3  RT @GregAbbott_TX: @TedCruz: \"On my first day ...  Positive\n",
              "4  RT @warriorwoman91: I liked her and was happy ...  Negative"
            ]
          },
          "metadata": {
            "tags": []
          },
          "execution_count": 179
        }
      ]
    },
    {
      "cell_type": "code",
      "metadata": {
        "colab": {
          "base_uri": "https://localhost:8080/"
        },
        "id": "rf9ajyI1cqjh",
        "outputId": "61564d1f-5e52-49f3-ddf5-7a4bb94e87bd"
      },
      "source": [
        "dataset['sentiment'].unique()"
      ],
      "execution_count": 180,
      "outputs": [
        {
          "output_type": "execute_result",
          "data": {
            "text/plain": [
              "array(['Positive', 'Negative'], dtype=object)"
            ]
          },
          "metadata": {
            "tags": []
          },
          "execution_count": 180
        }
      ]
    },
    {
      "cell_type": "code",
      "metadata": {
        "id": "FPBrshXk2guQ"
      },
      "source": [
        "from sklearn.preprocessing import OrdinalEncoder\n",
        "ord_enc = OrdinalEncoder()\n",
        "dataset['sentiment'] = ord_enc.fit_transform(dataset[['sentiment']])\n",
        "# Positive:1\n",
        "# Negative:0"
      ],
      "execution_count": 181,
      "outputs": []
    },
    {
      "cell_type": "code",
      "metadata": {
        "colab": {
          "base_uri": "https://localhost:8080/"
        },
        "id": "qXZRx19wAbQ8",
        "outputId": "6146be2f-0d67-486c-d446-38377f07e124"
      },
      "source": [
        "# get common words in training dataset\n",
        "from collections import Counter\n",
        "all_words = []\n",
        "for line in list(dataset['text']):\n",
        "    words = line.split()\n",
        "    for word in words:\n",
        "      if(len(word)>2):\n",
        "        all_words.append(word.lower())\n",
        "    \n",
        "    \n",
        "Counter(all_words).most_common(10)"
      ],
      "execution_count": 182,
      "outputs": [
        {
          "output_type": "execute_result",
          "data": {
            "text/plain": [
              "[('the', 6823),\n",
              " ('#gopdebate', 6296),\n",
              " ('#gopdebates', 4114),\n",
              " ('and', 2247),\n",
              " ('@rwsurfergirl:', 1805),\n",
              " ('you', 1486),\n",
              " ('for', 1456),\n",
              " ('that', 1175),\n",
              " ('fox', 1170),\n",
              " ('trump', 1078)]"
            ]
          },
          "metadata": {
            "tags": []
          },
          "execution_count": 182
        }
      ]
    },
    {
      "cell_type": "code",
      "metadata": {
        "colab": {
          "base_uri": "https://localhost:8080/"
        },
        "id": "GvGQWf1vjGSA",
        "outputId": "3d012dd1-cf13-43ff-be36-d724a757da7c"
      },
      "source": [
        "Counter(all_words).most_common()[-20:]"
      ],
      "execution_count": 183,
      "outputs": [
        {
          "output_type": "execute_result",
          "data": {
            "text/plain": [
              "[('wisconsin.', 1),\n",
              " ('pivot', 1),\n",
              " ('whims', 1),\n",
              " ('parents!!!!!!!', 1),\n",
              " ('moe', 1),\n",
              " ('stooge', 1),\n",
              " ('https://t.co/ucd675mrmy', 1),\n",
              " ('@swincash:', 1),\n",
              " ('this....hmmm', 1),\n",
              " ('http://t.co/2ucyupludo', 1),\n",
              " ('@jessicavalenti', 1),\n",
              " ('coif', 1),\n",
              " ('ear-to-head', 1),\n",
              " ('ratio', 1),\n",
              " ('@the818:', 1),\n",
              " ('distance', 1),\n",
              " ('#notme', 1),\n",
              " ('@georgehenryw:', 1),\n",
              " ('exceeded', 1),\n",
              " ('@laura4fairtax', 1)]"
            ]
          },
          "metadata": {
            "tags": []
          },
          "execution_count": 183
        }
      ]
    },
    {
      "cell_type": "code",
      "metadata": {
        "id": "jQroYdnrikCm"
      },
      "source": [
        "freq = set(w for (w,wc) in Counter(all_words).most_common(20))\n",
        "rare = set(w for (w,wc) in Counter(all_words).most_common()[-20:])"
      ],
      "execution_count": 184,
      "outputs": []
    },
    {
      "cell_type": "markdown",
      "metadata": {
        "id": "hla7FAY_k9yZ"
      },
      "source": [
        "# Processing Text Data"
      ]
    },
    {
      "cell_type": "code",
      "metadata": {
        "id": "U8w4NDPyBp85",
        "colab": {
          "base_uri": "https://localhost:8080/"
        },
        "outputId": "c682a983-decb-4876-f2cc-f97a4bb8188d"
      },
      "source": [
        "# nltk\n",
        "import nltk\n",
        "from nltk.stem import WordNetLemmatizer\n",
        "from nltk.corpus import stopwords\n",
        "from nltk.tokenize import word_tokenize\n",
        "!pip install emot"
      ],
      "execution_count": 185,
      "outputs": [
        {
          "output_type": "stream",
          "text": [
            "Requirement already satisfied: emot in /usr/local/lib/python3.7/dist-packages (2.1)\n"
          ],
          "name": "stdout"
        }
      ]
    },
    {
      "cell_type": "code",
      "metadata": {
        "colab": {
          "base_uri": "https://localhost:8080/"
        },
        "id": "GckgTZ73BSLc",
        "outputId": "97b2ed03-05b4-4aef-afc9-f493105227da"
      },
      "source": [
        "nltk.download('stopwords')\n",
        "stopword = set(stopwords.words('english'))\n",
        "nltk.download('punkt')\n",
        "nltk.download('wordnet')"
      ],
      "execution_count": 186,
      "outputs": [
        {
          "output_type": "stream",
          "text": [
            "[nltk_data] Downloading package stopwords to /root/nltk_data...\n",
            "[nltk_data]   Package stopwords is already up-to-date!\n",
            "[nltk_data] Downloading package punkt to /root/nltk_data...\n",
            "[nltk_data]   Package punkt is already up-to-date!\n",
            "[nltk_data] Downloading package wordnet to /root/nltk_data...\n",
            "[nltk_data]   Package wordnet is already up-to-date!\n"
          ],
          "name": "stdout"
        },
        {
          "output_type": "execute_result",
          "data": {
            "text/plain": [
              "True"
            ]
          },
          "metadata": {
            "tags": []
          },
          "execution_count": 186
        }
      ]
    },
    {
      "cell_type": "markdown",
      "metadata": {
        "id": "O39t9efOByxh"
      },
      "source": [
        "The Preprocessing steps taken are:\n",
        "\n",
        "1. Lower Casing: Each text is converted to lowercase.\n",
        "2. Removing URLs: Links starting with \"http\" or \"https\" or \"www\" are replaced by \"\".\n",
        "3. Removing Usernames: Replace @Usernames with word \"\". (eg: \"@XYZ\" to \"\")\n",
        "4. Removing Hashtags: Replace #... with \"\".\n",
        "5. Removing Punctuations\n",
        "6. Converting Emojis and Emoticons to Words\n",
        "7. Removing Short Words: Words with length less than 2 are removed.\n",
        "\n",
        " Removing Stopwords: Stopwords are the English words which does not add much meaning to a sentence. They can safely be ignored without sacrificing the meaning of the sentence. (eg: \"the\", \"he\", \"have\")\n",
        "8. Lemmatizing: Lemmatization is the process of converting a word to its base form. (e.g: “wolves” to “wolf”)"
      ]
    },
    {
      "cell_type": "code",
      "metadata": {
        "id": "Pk0wZmPmBzxx"
      },
      "source": [
        "urlPattern = r\"((http://)[^ ]*|(https://)[^ ]*|( www\\.)[^ ]*)\"\n",
        "userPattern = '@[^\\s]+'\n",
        "hashtagPattern = '#[^\\s]+'\n",
        "emojipunc = '_'\n",
        "def process_tweets(tweet):\n",
        "    # 1. Lower Casing\n",
        "    tweet = tweet.lower()\n",
        "    tweet=tweet[1:]\n",
        "    # 2. Removing all URls \n",
        "    tweet = re.sub(urlPattern,'',tweet)\n",
        "    # 3. Removing all @username.\n",
        "    tweet = re.sub(userPattern,'', tweet) \n",
        "    # # 4. Removing all Hashtags #.\n",
        "    # tweet = re.sub(hashtagPattern,'', tweet) \n",
        "    # 5. Remove punctuations\n",
        "    tweet = re.sub('-',' ', tweet)\n",
        "    tweet = tweet.translate(str.maketrans(\"\",\"\",string.punctuation))\n",
        "\n",
        "\n",
        "\n",
        "    # 6. Converting emojis and emoticons to Words\n",
        "    from emot.emo_unicode import UNICODE_EMO, EMOTICONS\n",
        "    # Converting emojis to words\n",
        "    for emot in UNICODE_EMO:\n",
        "      tweet = tweet.replace(emot, \"_\".join(UNICODE_EMO[emot].replace(\",\",\"\").split(' ')))\n",
        "    # Converting emoticons to words    \n",
        "    for emot in EMOTICONS:\n",
        "      tweet = re.sub(u'('+emot+')', \"_\".join(EMOTICONS[emot].replace(\",\",\"\").split(' ')), tweet)\n",
        "    tweet = re.sub(emojipunc,' ',tweet)\n",
        "    # Removing Numbers\n",
        "    tweet = tweet.replace(\"[0-9]\", \" \")\n",
        "\n",
        "    #tokenizing words\n",
        "    tokens = word_tokenize(tweet)\n",
        "    # 7. Removing Stop Words and words with length less than 2\n",
        "    final_tokens = [w for w in tokens if (w not in stopword)]\n",
        "    # 8. Reducing a word to its word stem \n",
        "    wordLemm = WordNetLemmatizer()\n",
        "    finalwords=[]\n",
        "    for w in final_tokens:\n",
        "      if len(w)>1:\n",
        "        word = wordLemm.lemmatize(w)\n",
        "        finalwords.append(word)\n",
        "\n",
        "    final_tokens = [w for w in finalwords if (w not in freq)]\n",
        "    # 8. Removing freq and rare \n",
        "    finalwords=[]\n",
        "    for w in final_tokens:\n",
        "      finalwords.append(w)\n",
        "    return ' '.join(finalwords)"
      ],
      "execution_count": 202,
      "outputs": []
    },
    {
      "cell_type": "code",
      "metadata": {
        "id": "9IkPrAr7ODW2"
      },
      "source": [
        "nlp = spacy.load('en', disable=['parser', 'ner'])\n",
        "\n",
        "# function to lemmatize text\n",
        "def lemmatization(texts):\n",
        "    output = []\n",
        "    for i in texts:\n",
        "        s = [token.lemma_ for token in nlp(i)]\n",
        "        output.append(' '.join(s))\n",
        "    return output"
      ],
      "execution_count": 203,
      "outputs": []
    },
    {
      "cell_type": "code",
      "metadata": {
        "colab": {
          "base_uri": "https://localhost:8080/"
        },
        "id": "OWckx4hPCSIM",
        "outputId": "ee09c976-c26b-4ed6-98bf-c98bbecd1d9a"
      },
      "source": [
        "dataset['processed_tweets'] = dataset['text'].apply(lambda x: process_tweets(x))\n",
        "dataset['processed_tweets'] = lemmatization(dataset['processed_tweets'])\n",
        "print('Text Preprocessing complete.')"
      ],
      "execution_count": 204,
      "outputs": [
        {
          "output_type": "stream",
          "text": [
            "Text Preprocessing complete.\n"
          ],
          "name": "stdout"
        }
      ]
    },
    {
      "cell_type": "code",
      "metadata": {
        "colab": {
          "base_uri": "https://localhost:8080/",
          "height": 359
        },
        "id": "_6wE1JHtC6s7",
        "outputId": "c1497645-7dc0-4cc7-d746-adc92d436cda"
      },
      "source": [
        "dataset.head(10)"
      ],
      "execution_count": 205,
      "outputs": [
        {
          "output_type": "execute_result",
          "data": {
            "text/html": [
              "<div>\n",
              "<style scoped>\n",
              "    .dataframe tbody tr th:only-of-type {\n",
              "        vertical-align: middle;\n",
              "    }\n",
              "\n",
              "    .dataframe tbody tr th {\n",
              "        vertical-align: top;\n",
              "    }\n",
              "\n",
              "    .dataframe thead th {\n",
              "        text-align: right;\n",
              "    }\n",
              "</style>\n",
              "<table border=\"1\" class=\"dataframe\">\n",
              "  <thead>\n",
              "    <tr style=\"text-align: right;\">\n",
              "      <th></th>\n",
              "      <th>text</th>\n",
              "      <th>sentiment</th>\n",
              "      <th>processed_tweets</th>\n",
              "    </tr>\n",
              "  </thead>\n",
              "  <tbody>\n",
              "    <tr>\n",
              "      <th>0</th>\n",
              "      <td>RT @ScottWalker: Didn't catch the full #GOPdeb...</td>\n",
              "      <td>1.0</td>\n",
              "      <td>do not catch full last night scott good line 9...</td>\n",
              "    </tr>\n",
              "    <tr>\n",
              "      <th>1</th>\n",
              "      <td>RT @RobGeorge: That Carly Fiorina is trending ...</td>\n",
              "      <td>1.0</td>\n",
              "      <td>carly fiorina trend hour debate man complete s...</td>\n",
              "    </tr>\n",
              "    <tr>\n",
              "      <th>2</th>\n",
              "      <td>RT @DanScavino: #GOPDebate w/ @realDonaldTrump...</td>\n",
              "      <td>1.0</td>\n",
              "      <td>deliver high rating history presidential debate</td>\n",
              "    </tr>\n",
              "    <tr>\n",
              "      <th>3</th>\n",
              "      <td>RT @GregAbbott_TX: @TedCruz: \"On my first day ...</td>\n",
              "      <td>1.0</td>\n",
              "      <td>first day rescind every illegal executive acti...</td>\n",
              "    </tr>\n",
              "    <tr>\n",
              "      <th>4</th>\n",
              "      <td>RT @warriorwoman91: I liked her and was happy ...</td>\n",
              "      <td>0.0</td>\n",
              "      <td>like happy hear go moderator anymore</td>\n",
              "    </tr>\n",
              "    <tr>\n",
              "      <th>5</th>\n",
              "      <td>Deer in the headlights RT @lizzwinstead: Ben C...</td>\n",
              "      <td>0.0</td>\n",
              "      <td>eer headlight rt ben carson may brain surgeon ...</td>\n",
              "    </tr>\n",
              "    <tr>\n",
              "      <th>6</th>\n",
              "      <td>RT @NancyOsborne180: Last night's debate prove...</td>\n",
              "      <td>0.0</td>\n",
              "      <td>last night debate prove</td>\n",
              "    </tr>\n",
              "    <tr>\n",
              "      <th>7</th>\n",
              "      <td>@JGreenDC @realDonaldTrump In all fairness #Bi...</td>\n",
              "      <td>0.0</td>\n",
              "      <td>jgreendc fairness own phrase</td>\n",
              "    </tr>\n",
              "    <tr>\n",
              "      <th>8</th>\n",
              "      <td>RT @WayneDupreeShow: Just woke up to tweet thi...</td>\n",
              "      <td>1.0</td>\n",
              "      <td>wake tweet good line night via</td>\n",
              "    </tr>\n",
              "    <tr>\n",
              "      <th>9</th>\n",
              "      <td>Me reading my family's comments about how grea...</td>\n",
              "      <td>0.0</td>\n",
              "      <td>read family comment great</td>\n",
              "    </tr>\n",
              "  </tbody>\n",
              "</table>\n",
              "</div>"
            ],
            "text/plain": [
              "                                                text  ...                                   processed_tweets\n",
              "0  RT @ScottWalker: Didn't catch the full #GOPdeb...  ...  do not catch full last night scott good line 9...\n",
              "1  RT @RobGeorge: That Carly Fiorina is trending ...  ...  carly fiorina trend hour debate man complete s...\n",
              "2  RT @DanScavino: #GOPDebate w/ @realDonaldTrump...  ...    deliver high rating history presidential debate\n",
              "3  RT @GregAbbott_TX: @TedCruz: \"On my first day ...  ...  first day rescind every illegal executive acti...\n",
              "4  RT @warriorwoman91: I liked her and was happy ...  ...               like happy hear go moderator anymore\n",
              "5  Deer in the headlights RT @lizzwinstead: Ben C...  ...  eer headlight rt ben carson may brain surgeon ...\n",
              "6  RT @NancyOsborne180: Last night's debate prove...  ...                            last night debate prove\n",
              "7  @JGreenDC @realDonaldTrump In all fairness #Bi...  ...                       jgreendc fairness own phrase\n",
              "8  RT @WayneDupreeShow: Just woke up to tweet thi...  ...                     wake tweet good line night via\n",
              "9  Me reading my family's comments about how grea...  ...                          read family comment great\n",
              "\n",
              "[10 rows x 3 columns]"
            ]
          },
          "metadata": {
            "tags": []
          },
          "execution_count": 205
        }
      ]
    },
    {
      "cell_type": "markdown",
      "metadata": {
        "id": "brOvqs0ybgZ2"
      },
      "source": [
        "### bert"
      ]
    },
    {
      "cell_type": "code",
      "metadata": {
        "id": "4DY0tDt4Y2Bd",
        "colab": {
          "base_uri": "https://localhost:8080/"
        },
        "outputId": "f2dfccfe-bbd7-49d8-8c38-3b25d775c0ac"
      },
      "source": [
        "!pip install transformers &> /dev/null\n",
        "!pip install -U bert-serving-server bert-serving-client &> /dev/null\n",
        "import transformers as ppb\n",
        "model_class, tokenizer_class, pretrained_weights = (ppb.BertModel, ppb.BertTokenizer, 'bert-base-uncased')\n",
        "\n",
        "# Load pretrained model/tokenizer\n",
        "tokenizer = tokenizer_class.from_pretrained(pretrained_weights)\n",
        "model = model_class.from_pretrained(pretrained_weights)\n",
        "tokenized = dataset.processed_tweets.apply((lambda x: tokenizer.encode(x, add_special_tokens=True)))\n",
        "max_len = 0\n",
        "for i in tokenized.values:\n",
        "    if len(i) > max_len:\n",
        "        max_len = len(i)\n",
        "\n",
        "tweets = np.array([i + [0]*(max_len-len(i)) for i in tokenized.values])"
      ],
      "execution_count": 206,
      "outputs": [
        {
          "output_type": "stream",
          "text": [
            "Some weights of the model checkpoint at bert-base-uncased were not used when initializing BertModel: ['cls.predictions.bias', 'cls.seq_relationship.weight', 'cls.predictions.transform.dense.bias', 'cls.predictions.decoder.weight', 'cls.seq_relationship.bias', 'cls.predictions.transform.LayerNorm.bias', 'cls.predictions.transform.LayerNorm.weight', 'cls.predictions.transform.dense.weight']\n",
            "- This IS expected if you are initializing BertModel from the checkpoint of a model trained on another task or with another architecture (e.g. initializing a BertForSequenceClassification model from a BertForPreTraining model).\n",
            "- This IS NOT expected if you are initializing BertModel from the checkpoint of a model that you expect to be exactly identical (initializing a BertForSequenceClassification model from a BertForSequenceClassification model).\n"
          ],
          "name": "stderr"
        }
      ]
    },
    {
      "cell_type": "markdown",
      "metadata": {
        "id": "t8siHoHA3tnj"
      },
      "source": [
        "# Tokenizing and Pad"
      ]
    },
    {
      "cell_type": "code",
      "metadata": {
        "id": "ayAIBiSx30bH"
      },
      "source": [
        "# from keras import regularizers\n",
        "# from tensorflow.keras.preprocessing.text import Tokenizer\n",
        "# from tensorflow.keras.preprocessing.sequence import pad_sequences\n",
        "# vocab_size = 2000\n",
        "# max_length = 250\n",
        "# trunc_type='post'\n",
        "# padding_type='pre'\n",
        "# oov_tok = \"<OOV>\"\n",
        "\n",
        "# tokenizer = Tokenizer(num_words=vocab_size, oov_token=oov_tok)\n",
        "# tokenizer.fit_on_texts(dataset.processed_tweets)\n",
        "# sequences = tokenizer.texts_to_sequences(dataset.processed_tweets)\n",
        "# tweets = pad_sequences(sequences, maxlen=max_length, padding=padding_type, truncating=trunc_type)"
      ],
      "execution_count": 207,
      "outputs": []
    },
    {
      "cell_type": "code",
      "metadata": {
        "id": "1xsspNsFdInM"
      },
      "source": [
        "X_train, X_test, y_train, y_test = train_test_split(tweets, dataset.sentiment, test_size=0.2, random_state=None)\n",
        "X_train, X_val, y_train, y_val = train_test_split(X_train, y_train, test_size=0.125, random_state=None)"
      ],
      "execution_count": 208,
      "outputs": []
    },
    {
      "cell_type": "code",
      "metadata": {
        "colab": {
          "base_uri": "https://localhost:8080/",
          "height": 405
        },
        "id": "e4kbP-Rwc_cI",
        "outputId": "96038df4-b447-410e-a03b-8bf9181c2c69"
      },
      "source": [
        "positive = len(y_train[y_train == 1])\n",
        "negative = len(y_train[y_train == 0])\n",
        "plt.figure(figsize=(4,6))\n",
        "plt.bar(['positive', 'Negative'],[positive,negative],color=['g','r'])\n",
        "plt.xlabel('Sentiment')\n",
        "plt.ylabel('Count')\n",
        "plt.show()\n",
        "print(\"Count of Positives = %i & Count of Negatives = %i\" %(positive, negative))"
      ],
      "execution_count": 209,
      "outputs": [
        {
          "output_type": "display_data",
          "data": {
            "image/png": "[encoded data removed]",
            "text/plain": [
              "<Figure size 288x432 with 1 Axes>"
            ]
          },
          "metadata": {
            "tags": [],
            "needs_background": "light"
          }
        },
        {
          "output_type": "stream",
          "text": [
            "Count of Positives = 1530 & Count of Negatives = 5980\n"
          ],
          "name": "stdout"
        }
      ]
    },
    {
      "cell_type": "markdown",
      "metadata": {
        "id": "OTRzgAB_oVhJ"
      },
      "source": [
        "# SMOTE: Over Sampling"
      ]
    },
    {
      "cell_type": "code",
      "metadata": {
        "id": "vzXpDwtGoXof"
      },
      "source": [
        "!pip install imbalanced-learn &> /dev/null\n",
        "import imblearn\n",
        "from imblearn.over_sampling import SMOTE\n",
        "oversample = SMOTE(random_state=None, k_neighbors=2)\n",
        "X_train, y_train = oversample.fit_resample(X_train, y_train)"
      ],
      "execution_count": 210,
      "outputs": []
    },
    {
      "cell_type": "code",
      "metadata": {
        "colab": {
          "base_uri": "https://localhost:8080/",
          "height": 405
        },
        "id": "LPNAFoq-p-A-",
        "outputId": "7681bfdd-d9be-4e57-bb9e-1cd5fd2b4b78"
      },
      "source": [
        "positive = len(y_train[y_train == 1])\n",
        "negative = len(y_train[y_train == 0])\n",
        "plt.figure(figsize=(4,6))\n",
        "plt.bar(['positive', 'Negative'],[positive,negative],color=['g','r'])\n",
        "plt.xlabel('Sentiment')\n",
        "plt.ylabel('Count')\n",
        "plt.show()\n",
        "print(\"Count of Positives = %i & Count of Negatives = %i\" %(positive, negative))"
      ],
      "execution_count": 211,
      "outputs": [
        {
          "output_type": "display_data",
          "data": {
            "image/png": "[encoded data removed]",
            "text/plain": [
              "<Figure size 288x432 with 1 Axes>"
            ]
          },
          "metadata": {
            "tags": [],
            "needs_background": "light"
          }
        },
        {
          "output_type": "stream",
          "text": [
            "Count of Positives = 5980 & Count of Negatives = 5980\n"
          ],
          "name": "stdout"
        }
      ]
    },
    {
      "cell_type": "markdown",
      "metadata": {
        "id": "Zb_6FvQI340K"
      },
      "source": [
        "# Model"
      ]
    },
    {
      "cell_type": "code",
      "metadata": {
        "id": "9_z5XcSb38fW",
        "colab": {
          "base_uri": "https://localhost:8080/"
        },
        "outputId": "9e31d8c9-cce4-4aba-b33c-3f7d5069289c"
      },
      "source": [
        "from keras.models import Sequential\n",
        "from keras import layers\n",
        "from keras import regularizers\n",
        "from keras import backend as K\n",
        "from keras.callbacks import ModelCheckpoint, ReduceLROnPlateau\n",
        "def lstm():\n",
        "  model = Sequential()\n",
        "  # model.add(layers.Embedding(vocab_size, 128))\n",
        "  model.add(layers.Embedding(30000, 150))\n",
        "  model.add(Bidirectional(LSTM(100, return_sequences = True, activation=\"tanh\", recurrent_activation=\"sigmoid\", use_bias=True, recurrent_dropout=0.0\n",
        "                               , unroll=False)))\n",
        "  model.add(Bidirectional(LSTM(80, return_sequences = True, activation=\"tanh\", recurrent_activation=\"sigmoid\", use_bias=True, recurrent_dropout=0.0\n",
        "                               , unroll=False)))\n",
        "  model.add(GlobalMaxPool1D())\n",
        "\n",
        "  model.add(BatchNormalization())\n",
        "  model.add(Dropout(0.2))\n",
        "  model.add(Dense(32, activation = \"relu\"))\n",
        "  model.add(Dropout(0.2))\n",
        "  model.add(Dense(16, activation = \"relu\"))\n",
        "  model.add(Dropout(0.2))\n",
        "  model.add(Dense(1, activation = 'sigmoid'))\n",
        "\n",
        "\n",
        "  model.compile(optimizer='adam', loss='binary_crossentropy', metrics=['accuracy'])\n",
        "  return model\n",
        "model = lstm()\n",
        "\n",
        "checkpoint = ModelCheckpoint('model.h5', monitor = 'val_loss', verbose = 1, save_best_only = True)\n",
        "reduce_lr = ReduceLROnPlateau(monitor = 'val_loss', factor = 0.2, verbose = 1, patience = 3, min_lr = 0)\n",
        "history = model.fit(X_train, y_train, epochs = 20,batch_size = 64,validation_data = (X_val, y_val),callbacks = [reduce_lr, checkpoint])"
      ],
      "execution_count": 212,
      "outputs": [
        {
          "output_type": "stream",
          "text": [
            "Epoch 1/20\n",
            "187/187 [==============================] - 22s 85ms/step - loss: 0.5234 - accuracy: 0.7280 - val_loss: 0.5086 - val_accuracy: 0.8332\n",
            "\n",
            "Epoch 00001: val_loss improved from inf to 0.50863, saving model to model.h5\n",
            "Epoch 2/20\n",
            "187/187 [==============================] - 14s 75ms/step - loss: 0.2334 - accuracy: 0.9120 - val_loss: 0.4189 - val_accuracy: 0.7968\n",
            "\n",
            "Epoch 00002: val_loss improved from 0.50863 to 0.41895, saving model to model.h5\n",
            "Epoch 3/20\n",
            "187/187 [==============================] - 14s 74ms/step - loss: 0.1674 - accuracy: 0.9365 - val_loss: 0.6201 - val_accuracy: 0.8248\n",
            "\n",
            "Epoch 00003: val_loss did not improve from 0.41895\n",
            "Epoch 4/20\n",
            "187/187 [==============================] - 14s 74ms/step - loss: 0.1389 - accuracy: 0.9479 - val_loss: 0.6457 - val_accuracy: 0.8378\n",
            "\n",
            "Epoch 00004: val_loss did not improve from 0.41895\n",
            "Epoch 5/20\n",
            "187/187 [==============================] - 14s 73ms/step - loss: 0.1269 - accuracy: 0.9505 - val_loss: 2.5862 - val_accuracy: 0.5741\n",
            "\n",
            "Epoch 00005: ReduceLROnPlateau reducing learning rate to 0.00020000000949949026.\n",
            "\n",
            "Epoch 00005: val_loss did not improve from 0.41895\n",
            "Epoch 6/20\n",
            "187/187 [==============================] - 14s 74ms/step - loss: 0.0980 - accuracy: 0.9616 - val_loss: 0.8403 - val_accuracy: 0.8099\n",
            "\n",
            "Epoch 00006: val_loss did not improve from 0.41895\n",
            "Epoch 7/20\n",
            "187/187 [==============================] - 14s 74ms/step - loss: 0.0804 - accuracy: 0.9695 - val_loss: 1.0510 - val_accuracy: 0.7763\n",
            "\n",
            "Epoch 00007: val_loss did not improve from 0.41895\n",
            "Epoch 8/20\n",
            "187/187 [==============================] - 14s 74ms/step - loss: 0.0776 - accuracy: 0.9682 - val_loss: 1.0084 - val_accuracy: 0.7959\n",
            "\n",
            "Epoch 00008: ReduceLROnPlateau reducing learning rate to 4.0000001899898055e-05.\n",
            "\n",
            "Epoch 00008: val_loss did not improve from 0.41895\n",
            "Epoch 9/20\n",
            "187/187 [==============================] - 14s 74ms/step - loss: 0.0766 - accuracy: 0.9694 - val_loss: 0.9543 - val_accuracy: 0.8006\n",
            "\n",
            "Epoch 00009: val_loss did not improve from 0.41895\n",
            "Epoch 10/20\n",
            "187/187 [==============================] - 14s 73ms/step - loss: 0.0740 - accuracy: 0.9716 - val_loss: 0.9780 - val_accuracy: 0.7959\n",
            "\n",
            "Epoch 00010: val_loss did not improve from 0.41895\n",
            "Epoch 11/20\n",
            "187/187 [==============================] - 14s 74ms/step - loss: 0.0751 - accuracy: 0.9688 - val_loss: 0.9454 - val_accuracy: 0.7978\n",
            "\n",
            "Epoch 00011: ReduceLROnPlateau reducing learning rate to 8.000000525498762e-06.\n",
            "\n",
            "Epoch 00011: val_loss did not improve from 0.41895\n",
            "Epoch 12/20\n",
            "187/187 [==============================] - 14s 74ms/step - loss: 0.0646 - accuracy: 0.9737 - val_loss: 0.9643 - val_accuracy: 0.8006\n",
            "\n",
            "Epoch 00012: val_loss did not improve from 0.41895\n",
            "Epoch 13/20\n",
            "187/187 [==============================] - 14s 75ms/step - loss: 0.0709 - accuracy: 0.9726 - val_loss: 0.9661 - val_accuracy: 0.7996\n",
            "\n",
            "Epoch 00013: val_loss did not improve from 0.41895\n",
            "Epoch 14/20\n",
            "187/187 [==============================] - 14s 75ms/step - loss: 0.0770 - accuracy: 0.9698 - val_loss: 0.9769 - val_accuracy: 0.7996\n",
            "\n",
            "Epoch 00014: ReduceLROnPlateau reducing learning rate to 1.6000001778593287e-06.\n",
            "\n",
            "Epoch 00014: val_loss did not improve from 0.41895\n",
            "Epoch 15/20\n",
            "187/187 [==============================] - 14s 75ms/step - loss: 0.0700 - accuracy: 0.9707 - val_loss: 0.9749 - val_accuracy: 0.8006\n",
            "\n",
            "Epoch 00015: val_loss did not improve from 0.41895\n",
            "Epoch 16/20\n",
            "187/187 [==============================] - 14s 73ms/step - loss: 0.0687 - accuracy: 0.9715 - val_loss: 0.9771 - val_accuracy: 0.7996\n",
            "\n",
            "Epoch 00016: val_loss did not improve from 0.41895\n",
            "Epoch 17/20\n",
            "187/187 [==============================] - 13s 72ms/step - loss: 0.0642 - accuracy: 0.9737 - val_loss: 0.9805 - val_accuracy: 0.8006\n",
            "\n",
            "Epoch 00017: ReduceLROnPlateau reducing learning rate to 3.200000264769187e-07.\n",
            "\n",
            "Epoch 00017: val_loss did not improve from 0.41895\n",
            "Epoch 18/20\n",
            "187/187 [==============================] - 13s 72ms/step - loss: 0.0707 - accuracy: 0.9696 - val_loss: 0.9778 - val_accuracy: 0.8015\n",
            "\n",
            "Epoch 00018: val_loss did not improve from 0.41895\n",
            "Epoch 19/20\n",
            "187/187 [==============================] - 13s 72ms/step - loss: 0.0650 - accuracy: 0.9719 - val_loss: 0.9797 - val_accuracy: 0.8006\n",
            "\n",
            "Epoch 00019: val_loss did not improve from 0.41895\n",
            "Epoch 20/20\n",
            "187/187 [==============================] - 13s 71ms/step - loss: 0.0685 - accuracy: 0.9720 - val_loss: 0.9797 - val_accuracy: 0.8006\n",
            "\n",
            "Epoch 00020: ReduceLROnPlateau reducing learning rate to 6.400000529538374e-08.\n",
            "\n",
            "Epoch 00020: val_loss did not improve from 0.41895\n"
          ],
          "name": "stdout"
        }
      ]
    },
    {
      "cell_type": "code",
      "metadata": {
        "colab": {
          "base_uri": "https://localhost:8080/",
          "height": 295
        },
        "id": "tztTJ8l74DqD",
        "outputId": "dfde9dca-cfd2-43e2-83ff-c3338f683d92"
      },
      "source": [
        "fig = plt.figure()\n",
        "plt.plot(history.history['accuracy'])\n",
        "plt.plot(history.history['val_accuracy'])\n",
        "plt.title('Accuracy')\n",
        "plt.xlabel('Epochs')\n",
        "plt.ylabel('Accuracy')\n",
        "plt.legend(['train', 'validation'], loc='upper right')\n",
        "plt.grid()\n",
        "plt.show()"
      ],
      "execution_count": 213,
      "outputs": [
        {
          "output_type": "display_data",
          "data": {
            "image/png": "[encoded data removed]",
            "text/plain": [
              "<Figure size 432x288 with 1 Axes>"
            ]
          },
          "metadata": {
            "tags": [],
            "needs_background": "light"
          }
        }
      ]
    },
    {
      "cell_type": "code",
      "metadata": {
        "colab": {
          "base_uri": "https://localhost:8080/",
          "height": 295
        },
        "id": "EQwEvWHP4F8c",
        "outputId": "7cd5c0da-d038-42a6-933b-631bd5b93d42"
      },
      "source": [
        "fig = plt.figure()\n",
        "plt.plot(history.history['loss'])\n",
        "plt.plot(history.history['val_loss'])\n",
        "plt.title('Loss')\n",
        "plt.xlabel('Epochs')\n",
        "plt.ylabel('Loss')\n",
        "plt.legend(['train', 'validation'], loc='upper right')\n",
        "plt.grid()\n",
        "plt.show()"
      ],
      "execution_count": 214,
      "outputs": [
        {
          "output_type": "display_data",
          "data": {
            "image/png": "[encoded data removed]",
            "text/plain": [
              "<Figure size 432x288 with 1 Axes>"
            ]
          },
          "metadata": {
            "tags": [],
            "needs_background": "light"
          }
        }
      ]
    },
    {
      "cell_type": "markdown",
      "metadata": {
        "id": "SBpbT5Dq4Mu6"
      },
      "source": [
        "## Testing"
      ]
    },
    {
      "cell_type": "code",
      "metadata": {
        "id": "pwojBFUm4OKh"
      },
      "source": [
        "y_pred = model.predict(X_test)\n",
        "for i in range(len(y_pred)):\n",
        "  if y_pred[i] > 0.5:\n",
        "    y_pred[i] = 1\n",
        "  else:\n",
        "    y_pred[i] = 0"
      ],
      "execution_count": 215,
      "outputs": []
    },
    {
      "cell_type": "code",
      "metadata": {
        "colab": {
          "base_uri": "https://localhost:8080/",
          "height": 448
        },
        "id": "FURhLveQ7btS",
        "outputId": "9e50ce34-3a49-46c3-f9ff-159b4c29693b"
      },
      "source": [
        "from sklearn.metrics import confusion_matrix , classification_report\n",
        "class_names=['Negative', 'Positive']\n",
        "confusion_mtx = confusion_matrix(y_test, y_pred)\n",
        "plt.figure(figsize=(5,4))\n",
        "sn.heatmap(confusion_mtx, annot=True,cmap=\"Blues\", fmt='d',xticklabels=class_names, yticklabels=class_names)\n",
        "plt.title('Confusion Matrix')\n",
        "plt.xlabel('Predicted label')\n",
        "plt.ylabel('Real label')\n",
        "plt.show()\n",
        "print(classification_report(y_test,y_pred))"
      ],
      "execution_count": 217,
      "outputs": [
        {
          "output_type": "display_data",
          "data": {
            "image/png": "[encoded data removed]",
            "text/plain": [
              "<Figure size 360x288 with 2 Axes>"
            ]
          },
          "metadata": {
            "tags": [],
            "needs_background": "light"
          }
        },
        {
          "output_type": "stream",
          "text": [
            "              precision    recall  f1-score   support\n",
            "\n",
            "         0.0       0.89      0.85      0.87      1664\n",
            "         1.0       0.56      0.65      0.60       482\n",
            "\n",
            "    accuracy                           0.81      2146\n",
            "   macro avg       0.73      0.75      0.74      2146\n",
            "weighted avg       0.82      0.81      0.81      2146\n",
            "\n"
          ],
          "name": "stdout"
        }
      ]
    }
  ]
}